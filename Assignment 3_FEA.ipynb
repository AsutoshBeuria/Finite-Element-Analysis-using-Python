{
 "cells": [
  {
   "cell_type": "code",
   "execution_count": 14,
   "id": "c61bf551",
   "metadata": {},
   "outputs": [],
   "source": [
    "import math\n",
    "from numpy import array as array\n",
    "from numpy import zeros as zeros\n",
    "from numpy import ones as ones\n",
    "from numpy import arange as arange\n",
    "from numpy import dot as dot\n",
    "from numpy import linalg as linalg\n",
    "import numpy as np"
   ]
  },
  {
   "cell_type": "code",
   "execution_count": 15,
   "id": "c25b5b75",
   "metadata": {},
   "outputs": [
    {
     "name": "stdout",
     "output_type": "stream",
     "text": [
      "x1 =  [[-1.06 -3.  ]\n",
      " [ 2.4   3.  ]\n",
      " [-3.    1.08]]\n",
      "Jacobian1 =  [[ 3.46 -1.94]\n",
      " [ 6.    4.08]]\n",
      "gradN1 =  [[ 0.07454342 -0.20965337]\n",
      " [ 0.15840477  0.07531992]\n",
      " [-0.23294819  0.13433346]]\n",
      "x2 =  [[ 2.4   3.  ]\n",
      " [-3.    1.08]\n",
      " [-1.06 -3.  ]]\n",
      "Jacobian2=  [[-5.4  -3.46]\n",
      " [-1.92 -6.  ]]\n",
      "gradN2 =  [[ 0.15840477  0.07531992]\n",
      " [-0.23294819  0.13433346]\n",
      " [ 0.07454342 -0.20965337]]\n",
      "x3 =  [[-3.    1.08]\n",
      " [-1.06 -3.  ]\n",
      " [ 2.4   3.  ]]\n",
      "Jacobian3 =  [[ 1.94  5.4 ]\n",
      " [-4.08  1.92]]\n",
      "gradN3 =  [[-0.23294819  0.13433346]\n",
      " [ 0.07454342 -0.20965337]\n",
      " [ 0.15840477  0.07531992]]\n"
     ]
    }
   ],
   "source": [
    "#  Gradients of the basis functions wrt the parametric coords\n",
    "gradNpar = array([[-1, -1], [1, 0], [0, 1]])\n",
    "xA = array([-1.06,-3.0])\n",
    "xB = array([2.4,3.0])\n",
    "xC = array([-3.0,1.08])\n",
    "\n",
    "# Case 1 , connectivity --> [A,B,C] , 1-->A , 2-->B, 3-->C\n",
    "x1 = array([xA,xB,xC])\n",
    "print('x1 = ', x1)\n",
    "# Jacobian matrix\n",
    "J1 = dot(x1.T, gradNpar) \n",
    "print('Jacobian1 = ', J1)\n",
    "# Gradient of the basis function \n",
    "gradN1 = dot(gradNpar, linalg.inv(J1))\n",
    "print('gradN1 = ', gradN1)\n",
    "\n",
    "# Case 2 , connectivity --> [B,C,A] , 1-->B , 2-->C, 3-->A\n",
    "x2 = array([xB,xC,xA])\n",
    "print('x2 = ', x2)\n",
    "# Jacobian matrix\n",
    "J2 = dot(x2.T, gradNpar)\n",
    "print('Jacobian2= ', J2)\n",
    "# Gradient of the basis function \n",
    "gradN2 = dot(gradNpar, linalg.inv(J2))\n",
    "print('gradN2 = ', gradN2)\n",
    "\n",
    "# Case 2 , connectivity --> [C,A,B] , 1-->C , 2-->A, 3-->B\n",
    "x3 = array([xC,xA,xB])\n",
    "print('x3 = ', x3)\n",
    "# Jacobian matrix\n",
    "J3 = dot(x3.T, gradNpar)\n",
    "print('Jacobian3 = ', J3)\n",
    "# Gradient of the basis function \n",
    "gradN3 = dot(gradNpar, linalg.inv(J3))\n",
    "print('gradN3 = ', gradN3)\n",
    "\n"
   ]
  },
  {
   "cell_type": "code",
   "execution_count": null,
   "id": "241d3bb3",
   "metadata": {},
   "outputs": [],
   "source": []
  }
 ],
 "metadata": {
  "kernelspec": {
   "display_name": "Python 3",
   "language": "python",
   "name": "python3"
  },
  "language_info": {
   "codemirror_mode": {
    "name": "ipython",
    "version": 3
   },
   "file_extension": ".py",
   "mimetype": "text/x-python",
   "name": "python",
   "nbconvert_exporter": "python",
   "pygments_lexer": "ipython3",
   "version": "3.9.4"
  }
 },
 "nbformat": 4,
 "nbformat_minor": 5
}
